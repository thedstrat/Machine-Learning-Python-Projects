{
  "nbformat": 4,
  "nbformat_minor": 0,
  "metadata": {
    "colab": {
      "name": "Fastai_Project_1.ipynb",
      "version": "0.3.2",
      "provenance": [],
      "collapsed_sections": [],
      "include_colab_link": true
    },
    "kernelspec": {
      "name": "python3",
      "display_name": "Python 3"
    },
    "accelerator": "GPU"
  },
  "cells": [
    {
      "cell_type": "markdown",
      "metadata": {
        "id": "view-in-github",
        "colab_type": "text"
      },
      "source": [
        "<a href=\"https://colab.research.google.com/github/thedstrat/Machine-Learning-Python-Projects/blob/master/Image_Classification.ipynb\" target=\"_parent\"><img src=\"https://colab.research.google.com/assets/colab-badge.svg\" alt=\"Open In Colab\"/></a>"
      ]
    },
    {
      "metadata": {
        "id": "xp3K5X7bEoJB",
        "colab_type": "text"
      },
      "cell_type": "markdown",
      "source": [
        "### Image Classification using a CNN pretrained with ImageNet weights. Pull and classify images directly from Google Images."
      ]
    },
    {
      "metadata": {
        "id": "viSkjVWd3Zgs",
        "colab_type": "code",
        "outputId": "6bf99277-c352-4e49-842a-c81a864bb0f3",
        "colab": {
          "base_uri": "https://localhost:8080/",
          "height": 218
        }
      },
      "cell_type": "code",
      "source": [
        "!pip install google_images_download #Install GI DL module. Do I have to do this every time?"
      ],
      "execution_count": 3,
      "outputs": [
        {
          "output_type": "stream",
          "text": [
            "Collecting google_images_download\n",
            "  Downloading https://files.pythonhosted.org/packages/43/51/49ebfd3a02945974b1d93e34bb96a1f9530a0dde9c2bc022b30fd658edd6/google_images_download-2.5.0.tar.gz\n",
            "Collecting selenium (from google_images_download)\n",
            "\u001b[?25l  Downloading https://files.pythonhosted.org/packages/80/d6/4294f0b4bce4de0abf13e17190289f9d0613b0a44e5dd6a7f5ca98459853/selenium-3.141.0-py2.py3-none-any.whl (904kB)\n",
            "\u001b[K    100% |████████████████████████████████| 911kB 22.0MB/s \n",
            "\u001b[?25hRequirement already satisfied: urllib3 in /usr/local/lib/python3.6/dist-packages (from selenium->google_images_download) (1.22)\n",
            "Building wheels for collected packages: google-images-download\n",
            "  Building wheel for google-images-download (setup.py) ... \u001b[?25ldone\n",
            "\u001b[?25h  Stored in directory: /root/.cache/pip/wheels/d2/23/84/3cec6d566b88bef64ad727a7e805f6544b8af4a8f121f9691c\n",
            "Successfully built google-images-download\n",
            "Installing collected packages: selenium, google-images-download\n",
            "Successfully installed google-images-download-2.5.0 selenium-3.141.0\n"
          ],
          "name": "stdout"
        }
      ]
    },
    {
      "metadata": {
        "id": "0lsEcroPNgL5",
        "colab_type": "code",
        "colab": {}
      },
      "cell_type": "code",
      "source": [
        "from fastai.vision import *\n",
        "from fastai.metrics import error_rate \n",
        "from google.colab import drive\n",
        "import os\n",
        "from google_images_download import google_images_download "
      ],
      "execution_count": 0,
      "outputs": []
    },
    {
      "metadata": {
        "id": "grrpZ5eCNvOX",
        "colab_type": "code",
        "colab": {}
      },
      "cell_type": "code",
      "source": [
        "bs = 64 #what was this for again?"
      ],
      "execution_count": 0,
      "outputs": []
    },
    {
      "metadata": {
        "id": "RfrC_l3FzYxp",
        "colab_type": "code",
        "outputId": "5e615303-642c-4b8c-9cc8-ce3c40090c2c",
        "colab": {
          "base_uri": "https://localhost:8080/",
          "height": 138
        }
      },
      "cell_type": "code",
      "source": [
        "#Mount Drive and show the directory\n",
        "drive.mount('/content/drive')\n",
        "!ls \"/content/drive/My Drive/ColabNotebooks/Fastai_1/Images\" #Navigate to the right directory"
      ],
      "execution_count": 6,
      "outputs": [
        {
          "output_type": "stream",
          "text": [
            "Go to this URL in a browser: https://accounts.google.com/o/oauth2/auth?client_id=947318989803-6bn6qk8qdgf4n4g3pfee6491hc0brc4i.apps.googleusercontent.com&redirect_uri=urn%3Aietf%3Awg%3Aoauth%3A2.0%3Aoob&scope=email%20https%3A%2F%2Fwww.googleapis.com%2Fauth%2Fdocs.test%20https%3A%2F%2Fwww.googleapis.com%2Fauth%2Fdrive%20https%3A%2F%2Fwww.googleapis.com%2Fauth%2Fdrive.photos.readonly%20https%3A%2F%2Fwww.googleapis.com%2Fauth%2Fpeopleapi.readonly&response_type=code\n",
            "\n",
            "Enter your authorization code:\n",
            "··········\n",
            "Mounted at /content/drive\n",
            " bun   cupcake\t models   muffin  'small cake'\n"
          ],
          "name": "stdout"
        }
      ]
    },
    {
      "metadata": {
        "id": "vbE2HndzB6AY",
        "colab_type": "code",
        "colab": {}
      },
      "cell_type": "code",
      "source": [
        "path = \"/content/drive/My Drive/ColabNotebooks/Fastai_1/Images/\""
      ],
      "execution_count": 0,
      "outputs": []
    },
    {
      "metadata": {
        "id": "gPl6tHNbN60R",
        "colab_type": "code",
        "colab": {}
      },
      "cell_type": "code",
      "source": [
        "#Download images from Google Images into folder(s) in Google Drive\n",
        "response = google_images_download.googleimagesdownload() #class instantiation\n",
        "\n",
        "arguments = {'keywords': 'muffin', 'limit': 100, 'format': 'jpg', 'size': 'medium', 'output_directory': path}\n",
        "arguments2 = {'keywords': 'cupcake', 'limit': 100, 'format': 'jpg', 'size': 'medium', 'output_directory': path}\n",
        "arguments3 = {'keywords': 'bun', 'limit': 100, 'format': 'jpg', 'size': 'medium', 'output_directory': path}\n",
        "arguments4 = {'keywords': 'small cake', 'limit': 100, 'format': 'jpg', 'size': 'medium', 'output_directory': path}\n",
        "\n",
        "'''\n",
        "paths = response.download(arguments) #Download images and create folders\n",
        "paths = response.download(arguments2)\n",
        "paths = response.download(arguments3)\n",
        "paths = response.download(arguments4)\n",
        "'''"
      ],
      "execution_count": 0,
      "outputs": []
    },
    {
      "metadata": {
        "id": "qlIZ-k4hyIaB",
        "colab_type": "code",
        "colab": {}
      },
      "cell_type": "code",
      "source": [
        "#Create ImageDataBunch class to prep your images for the CNN\n",
        "\n",
        "#Imagelist.from_folder saves a path attribute of all files that have an image suffix, split into training and cv sets randomly, give label based on the folder name, \n",
        "#apply small transformations, binds train/cv/test sets?, and normalizes all colors \n",
        "\n",
        "data = (ImageList.from_folder(path).split_by_rand_pct().label_from_folder().transform(get_transforms(), size=224).databunch().normalize(imagenet_stats))"
      ],
      "execution_count": 0,
      "outputs": []
    },
    {
      "metadata": {
        "id": "qGeQ3EDcFkLf",
        "colab_type": "code",
        "colab": {}
      },
      "cell_type": "code",
      "source": [
        "#Show a random sample of images with their actual labels\n",
        "data.show_batch(rows=3, figsize=(7,6))"
      ],
      "execution_count": 0,
      "outputs": []
    },
    {
      "metadata": {
        "id": "FBjNl4LlTtW3",
        "colab_type": "code",
        "colab": {
          "base_uri": "https://localhost:8080/",
          "height": 50
        },
        "outputId": "e6b88575-b437-4e19-fcd2-92e8d9887d60"
      },
      "cell_type": "code",
      "source": [
        "#Train the classifier as CNN with 34 layers. The resnet34 model comes pretained w/ Imagenet weights** (This is why it's so good oob)\n",
        "learn = cnn_learner(data, models.resnet34, metrics=error_rate)"
      ],
      "execution_count": 11,
      "outputs": [
        {
          "output_type": "stream",
          "text": [
            "Downloading: \"https://download.pytorch.org/models/resnet34-333f7ec4.pth\" to /root/.torch/models/resnet34-333f7ec4.pth\n",
            "87306240it [00:02, 32718698.03it/s]\n"
          ],
          "name": "stderr"
        }
      ]
    },
    {
      "metadata": {
        "id": "iX-Z_a_bXghp",
        "colab_type": "code",
        "colab": {}
      },
      "cell_type": "code",
      "source": [
        "#I think this tells us more information about each layer. Not sure if necessary...?\n",
        "learn.model"
      ],
      "execution_count": 0,
      "outputs": []
    },
    {
      "metadata": {
        "id": "-3V8-IQSYTKC",
        "colab_type": "code",
        "colab": {}
      },
      "cell_type": "code",
      "source": [
        "#Fit your model using the '1 cycle' policy\n",
        "learn.fit_one_cycle(5)"
      ],
      "execution_count": 0,
      "outputs": []
    },
    {
      "metadata": {
        "id": "YAWOYnQIsuzE",
        "colab_type": "code",
        "colab": {
          "base_uri": "https://localhost:8080/",
          "height": 34
        },
        "outputId": "c113ac7d-e0bf-430c-8120-a6f73423863b"
      },
      "cell_type": "code",
      "source": [
        "#Save the weights so that you can come back to them later\n",
        "learn.save('trained_model_all_4', return_path = True)"
      ],
      "execution_count": 83,
      "outputs": [
        {
          "output_type": "execute_result",
          "data": {
            "text/plain": [
              "PosixPath('/content/drive/My Drive/ColabNotebooks/Fastai_1/Images/models/trained_model_all_4.pth')"
            ]
          },
          "metadata": {
            "tags": []
          },
          "execution_count": 83
        }
      ]
    },
    {
      "metadata": {
        "id": "nqqndKxZEaHG",
        "colab_type": "text"
      },
      "cell_type": "markdown",
      "source": [
        "## **Analysis**"
      ]
    },
    {
      "metadata": {
        "id": "khA9cQ7RaXyV",
        "colab_type": "code",
        "colab": {}
      },
      "cell_type": "code",
      "source": [
        "#learn.lr_find() #find alpha\n",
        "\n",
        "#learn.recorder.plot()\n",
        "\n",
        "learn.recorder.plot_losses() #plot loss over iteration #\n",
        "\n",
        "#Was it overfit?"
      ],
      "execution_count": 0,
      "outputs": []
    },
    {
      "metadata": {
        "id": "w71lFnWXtNoN",
        "colab_type": "code",
        "colab": {}
      },
      "cell_type": "code",
      "source": [
        "#Make a confusion matrix to visualize the most wrongly classified images\n",
        "interp = ClassificationInterpretation.from_learner(learn)\n",
        "\n",
        "#Returns most wrongly classified (losses) and their respective indices.\n",
        "losses, indices = interp.top_losses() \n",
        "print(losses,indices)\n",
        "\n",
        "#len(data.valid_ds)==len(losses)==len(indices) #?"
      ],
      "execution_count": 0,
      "outputs": []
    },
    {
      "metadata": {
        "id": "79n094sptamO",
        "colab_type": "code",
        "colab": {}
      },
      "cell_type": "code",
      "source": [
        "#Plot most wrongly classified images\n",
        "interp.plot_top_losses(9, figsize=(15,11)) #Note that the algorithm still got all of these right. Might have to increase # of photos or compare less differentiable items."
      ],
      "execution_count": 0,
      "outputs": []
    },
    {
      "metadata": {
        "id": "xJpc-wDewNCT",
        "colab_type": "code",
        "colab": {}
      },
      "cell_type": "code",
      "source": [
        "# Plot the confusion matrix\n",
        "interp.plot_confusion_matrix(figsize=(12,12), dpi=60)"
      ],
      "execution_count": 0,
      "outputs": []
    },
    {
      "metadata": {
        "id": "SY_Kjxy5CX4P",
        "colab_type": "code",
        "colab": {}
      },
      "cell_type": "code",
      "source": [
        "#What did the model predict incorrectly most often?\n",
        "interp.most_confused(min_val=2)"
      ],
      "execution_count": 0,
      "outputs": []
    },
    {
      "metadata": {
        "id": "k2KNOzjEHJ9t",
        "colab_type": "text"
      },
      "cell_type": "markdown",
      "source": [
        "# **Fine Tuning**"
      ]
    },
    {
      "metadata": {
        "id": "q03rYqqLCYLS",
        "colab_type": "code",
        "colab": {}
      },
      "cell_type": "code",
      "source": [
        "# This will unfreeze our model so that the weights in each layer may change. When did it ever become frozen? I think it only unfreezes until you run .fit_one_cycle().\n",
        "learn.unfreeze()\n",
        "\n",
        "learn.fit_one_cycle(1)"
      ],
      "execution_count": 0,
      "outputs": []
    },
    {
      "metadata": {
        "id": "BaMYQK6F79YL",
        "colab_type": "code",
        "colab": {}
      },
      "cell_type": "code",
      "source": [
        "# Load the CNN that you saved before the analysis. Why is this not before the unfreeze?\n",
        "learn.load('trained_model_all_4');"
      ],
      "execution_count": 0,
      "outputs": []
    },
    {
      "metadata": {
        "id": "1Z9bg0ZuA408",
        "colab_type": "code",
        "colab": {
          "base_uri": "https://localhost:8080/",
          "height": 300
        },
        "outputId": "420f05fe-4b66-4b19-c755-bc320d7f177b"
      },
      "cell_type": "code",
      "source": [
        "# Find and plot the optimal Learning Rate (alpha)\n",
        "learn.lr_find()\n",
        "learn.recorder.plot()"
      ],
      "execution_count": 24,
      "outputs": [
        {
          "output_type": "display_data",
          "data": {
            "text/html": [
              ""
            ],
            "text/plain": [
              "<IPython.core.display.HTML object>"
            ]
          },
          "metadata": {
            "tags": []
          }
        },
        {
          "output_type": "stream",
          "text": [
            "LR Finder is complete, type {learner_name}.recorder.plot() to see the graph.\n"
          ],
          "name": "stdout"
        },
        {
          "output_type": "display_data",
          "data": {
            "image/png": "[encoded data removed]",
            "text/plain": [
              "<Figure size 432x288 with 1 Axes>"
            ]
          },
          "metadata": {
            "tags": []
          }
        }
      ]
    },
    {
      "metadata": {
        "id": "qfZBWNc-BP_3",
        "colab_type": "code",
        "colab": {
          "base_uri": "https://localhost:8080/",
          "height": 106
        },
        "outputId": "22aacdec-113d-464b-852e-efc24849d329"
      },
      "cell_type": "code",
      "source": [
        "learn.unfreeze() #unfreezing before this significantly improves accuracy\n",
        "\n",
        "#Pass in the learning rates that minimize our loss using 'max_lr' below. \n",
        "learn.fit_one_cycle(2, max_lr=slice(1e-6,1e-4))\n",
        "\n",
        "#WTF. error rate is optimized when max_lr is at highest loss, not lowest. Watch out for this method."
      ],
      "execution_count": 32,
      "outputs": [
        {
          "output_type": "display_data",
          "data": {
            "text/html": [
              "<table border=\"1\" class=\"dataframe\">\n",
              "  <thead>\n",
              "    <tr style=\"text-align: left;\">\n",
              "      <th>epoch</th>\n",
              "      <th>train_loss</th>\n",
              "      <th>valid_loss</th>\n",
              "      <th>error_rate</th>\n",
              "      <th>time</th>\n",
              "    </tr>\n",
              "  </thead>\n",
              "  <tbody>\n",
              "    <tr>\n",
              "      <td>0</td>\n",
              "      <td>0.170768</td>\n",
              "      <td>0.175206</td>\n",
              "      <td>0.042553</td>\n",
              "      <td>00:10</td>\n",
              "    </tr>\n",
              "    <tr>\n",
              "      <td>1</td>\n",
              "      <td>0.128784</td>\n",
              "      <td>0.159222</td>\n",
              "      <td>0.053191</td>\n",
              "      <td>00:11</td>\n",
              "    </tr>\n",
              "  </tbody>\n",
              "</table>"
            ],
            "text/plain": [
              "<IPython.core.display.HTML object>"
            ]
          },
          "metadata": {
            "tags": []
          }
        }
      ]
    },
    {
      "metadata": {
        "id": "jFb3CBQ7CntN",
        "colab_type": "code",
        "colab": {}
      },
      "cell_type": "code",
      "source": [
        ""
      ],
      "execution_count": 0,
      "outputs": []
    }
  ]
}