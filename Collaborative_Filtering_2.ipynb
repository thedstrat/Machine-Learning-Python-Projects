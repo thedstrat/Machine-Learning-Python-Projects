{
  "nbformat": 4,
  "nbformat_minor": 0,
  "metadata": {
    "colab": {
      "name": "Collaborative Filtering 2.ipynb",
      "version": "0.3.2",
      "provenance": [],
      "collapsed_sections": [],
      "include_colab_link": true
    },
    "kernelspec": {
      "name": "python3",
      "display_name": "Python 3"
    },
    "accelerator": "GPU"
  },
  "cells": [
    {
      "cell_type": "markdown",
      "metadata": {
        "id": "view-in-github",
        "colab_type": "text"
      },
      "source": [
        "<a href=\"https://colab.research.google.com/github/thedstrat/Machine-Learning-Python-Projects/blob/master/Collaborative_Filtering_2.ipynb\" target=\"_parent\"><img src=\"https://colab.research.google.com/assets/colab-badge.svg\" alt=\"Open In Colab\"/></a>"
      ]
    },
    {
      "cell_type": "markdown",
      "metadata": {
        "id": "_8tkgxas14Dm",
        "colab_type": "text"
      },
      "source": [
        "## Collaborative Filtering Using Fastai and the Jester Database"
      ]
    },
    {
      "cell_type": "markdown",
      "metadata": {
        "id": "89uLq5Ot2oCq",
        "colab_type": "text"
      },
      "source": [
        "Part 1: "
      ]
    },
    {
      "cell_type": "code",
      "metadata": {
        "id": "EzD6YNN52wOZ",
        "colab_type": "code",
        "outputId": "053657e1-d731-46af-e4e0-feaee75436d2",
        "colab": {
          "base_uri": "https://localhost:8080/",
          "height": 34
        }
      },
      "source": [
        "# Mount your Google Drive which contains the Jester database\n",
        "from google.colab import drive\n",
        "drive.mount('/content/drive')"
      ],
      "execution_count": 0,
      "outputs": [
        {
          "output_type": "stream",
          "text": [
            "Drive already mounted at /content/drive; to attempt to forcibly remount, call drive.mount(\"/content/drive\", force_remount=True).\n"
          ],
          "name": "stdout"
        }
      ]
    },
    {
      "cell_type": "code",
      "metadata": {
        "id": "yOvv4D0J16QA",
        "colab_type": "code",
        "colab": {}
      },
      "source": [
        "from fastai.collab import *\n",
        "from fastai.tabular import *\n",
        "import pandas as pd\n",
        "import numpy as np"
      ],
      "execution_count": 0,
      "outputs": []
    },
    {
      "cell_type": "code",
      "metadata": {
        "id": "6G7pH2_N2Rq7",
        "colab_type": "code",
        "colab": {}
      },
      "source": [
        "user, item, title = 'userID','SongId','title'"
      ],
      "execution_count": 0,
      "outputs": []
    },
    {
      "cell_type": "code",
      "metadata": {
        "id": "_fUEC6Ij2afN",
        "colab_type": "code",
        "colab": {}
      },
      "source": [
        "#Specify directory of the Jester file\n",
        "path = \"/content/drive/My Drive/documents/songsDataset.csv\""
      ],
      "execution_count": 0,
      "outputs": []
    },
    {
      "cell_type": "markdown",
      "metadata": {
        "id": "BU1u0SDWABo5",
        "colab_type": "text"
      },
      "source": [
        "Song Database Notes:\n",
        "\n",
        "---\n",
        "\n",
        "1.  Retrieved from https://www.kaggle.com/rymnikski/dataset-for-collaborative-filters/downloads/dataset-for-collaborative-filters.zip/1\n",
        "\n",
        "\n",
        "\n"
      ]
    },
    {
      "cell_type": "code",
      "metadata": {
        "id": "drj3ASC_2gqu",
        "colab_type": "code",
        "outputId": "120166e3-f582-46b6-d012-2503526c1a5e",
        "colab": {
          "base_uri": "https://localhost:8080/",
          "height": 118
        }
      },
      "source": [
        "songdata = pd.read_csv(path)\n",
        "\n",
        "print(songdata.head())"
      ],
      "execution_count": 0,
      "outputs": [
        {
          "output_type": "stream",
          "text": [
            "   userID  SongID  Rating\n",
            "0       0    7171       5\n",
            "1       0    8637       4\n",
            "2       0   21966       4\n",
            "3       0   35821       5\n",
            "4       0   82446       5\n"
          ],
          "name": "stdout"
        }
      ]
    },
    {
      "cell_type": "code",
      "metadata": {
        "id": "GGTjuTjm9lVj",
        "colab_type": "code",
        "colab": {}
      },
      "source": [
        "# Prep the ratings df for the CNN (split into test and training sets)\n",
        "data = CollabDataBunch.from_df(songdata, valid_pct=0.2) "
      ],
      "execution_count": 0,
      "outputs": []
    },
    {
      "cell_type": "code",
      "metadata": {
        "id": "TLEp6FauGFRB",
        "colab_type": "code",
        "colab": {}
      },
      "source": [
        "y_range = (1, 5) #set the rating value range"
      ],
      "execution_count": 0,
      "outputs": []
    },
    {
      "cell_type": "markdown",
      "metadata": {
        "id": "dYzeE7ovNyY1",
        "colab_type": "text"
      },
      "source": [
        "##Dot Bias Model"
      ]
    },
    {
      "cell_type": "code",
      "metadata": {
        "id": "yhPnWfdTGnyE",
        "colab_type": "code",
        "colab": {}
      },
      "source": [
        "#Train the classifier (Dot Product Model)\n",
        "learn = collab_learner(data, n_factors=40, y_range=y_range, wd = .1) #What's n_factors?"
      ],
      "execution_count": 0,
      "outputs": []
    },
    {
      "cell_type": "code",
      "metadata": {
        "id": "zvKJl6eV1eyh",
        "colab_type": "code",
        "colab": {}
      },
      "source": [
        "#Find the optimal learning rate\n",
        "learn.lr_find()\n",
        "learn.recorder.plot()\n",
        "\n",
        "#I'm getting very different lr rate graphs. Read up on this again."
      ],
      "execution_count": 0,
      "outputs": []
    },
    {
      "cell_type": "code",
      "metadata": {
        "id": "OV177HfCJE1J",
        "colab_type": "code",
        "outputId": "33905367-1852-4a87-99e0-2b022926ec66",
        "colab": {
          "base_uri": "https://localhost:8080/",
          "height": 136
        }
      },
      "source": [
        "learn.unfreeze() #unfreezing to improve accuracy\n",
        "learn.fit_one_cycle(1) #3 epochs"
      ],
      "execution_count": 0,
      "outputs": [
        {
          "output_type": "display_data",
          "data": {
            "text/html": [
              "<table border=\"1\" class=\"dataframe\">\n",
              "  <thead>\n",
              "    <tr style=\"text-align: left;\">\n",
              "      <th>epoch</th>\n",
              "      <th>train_loss</th>\n",
              "      <th>valid_loss</th>\n",
              "      <th>time</th>\n",
              "    </tr>\n",
              "  </thead>\n",
              "  <tbody>\n",
              "    <tr>\n",
              "      <td>0</td>\n",
              "      <td>2.389686</td>\n",
              "      <td>2.413594</td>\n",
              "      <td>01:42</td>\n",
              "    </tr>\n",
              "    <tr>\n",
              "      <td>1</td>\n",
              "      <td>2.352038</td>\n",
              "      <td>2.374702</td>\n",
              "      <td>01:42</td>\n",
              "    </tr>\n",
              "    <tr>\n",
              "      <td>2</td>\n",
              "      <td>2.277334</td>\n",
              "      <td>2.346240</td>\n",
              "      <td>01:43</td>\n",
              "    </tr>\n",
              "  </tbody>\n",
              "</table>"
            ],
            "text/plain": [
              "<IPython.core.display.HTML object>"
            ]
          },
          "metadata": {
            "tags": []
          }
        }
      ]
    },
    {
      "cell_type": "code",
      "metadata": {
        "id": "Ov2ucbGgJsBP",
        "colab_type": "code",
        "colab": {}
      },
      "source": [
        "#Save the weights and learner object\n",
        "learn.save('/content/drive/My Drive/Colab Notebooks/Saved Models/trained_model_songs1', return_path = True)\n",
        "learn.export('/content/drive/My Drive/Colab Notebooks/Saved Models/songs_model.pkl')"
      ],
      "execution_count": 0,
      "outputs": []
    },
    {
      "cell_type": "markdown",
      "metadata": {
        "id": "oAq2gpMSNoi_",
        "colab_type": "text"
      },
      "source": [
        "## Embeddings Model"
      ]
    },
    {
      "cell_type": "code",
      "metadata": {
        "id": "alUKIvrX_ZS4",
        "colab_type": "code",
        "colab": {}
      },
      "source": [
        "#Embeddings Model\n",
        "learn2 = collab_learner(data, use_nn=True, emb_szs={'userID': 40, 'SongId':40}, layers=[256, 128], y_range=(1, 5)) #Make embedding with 40 rows for userID and 40 columns for songID I believe"
      ],
      "execution_count": 0,
      "outputs": []
    },
    {
      "cell_type": "code",
      "metadata": {
        "id": "qBQQJpuTBSOx",
        "colab_type": "code",
        "colab": {}
      },
      "source": [
        "learn.lr_find() \n",
        "learn.recorder.plot()"
      ],
      "execution_count": 0,
      "outputs": []
    },
    {
      "cell_type": "code",
      "metadata": {
        "id": "xfBbA9E7Bflw",
        "colab_type": "code",
        "outputId": "6db0ca86-2838-45f3-bc21-78dbb48af62d",
        "colab": {
          "base_uri": "https://localhost:8080/",
          "height": 166
        }
      },
      "source": [
        "learn.fit_one_cycle(4, 1e-5)"
      ],
      "execution_count": 0,
      "outputs": [
        {
          "output_type": "display_data",
          "data": {
            "text/html": [
              "<table border=\"1\" class=\"dataframe\">\n",
              "  <thead>\n",
              "    <tr style=\"text-align: left;\">\n",
              "      <th>epoch</th>\n",
              "      <th>train_loss</th>\n",
              "      <th>valid_loss</th>\n",
              "      <th>time</th>\n",
              "    </tr>\n",
              "  </thead>\n",
              "  <tbody>\n",
              "    <tr>\n",
              "      <td>0</td>\n",
              "      <td>2.226114</td>\n",
              "      <td>2.345938</td>\n",
              "      <td>01:41</td>\n",
              "    </tr>\n",
              "    <tr>\n",
              "      <td>1</td>\n",
              "      <td>2.232084</td>\n",
              "      <td>2.345295</td>\n",
              "      <td>01:42</td>\n",
              "    </tr>\n",
              "    <tr>\n",
              "      <td>2</td>\n",
              "      <td>2.211262</td>\n",
              "      <td>2.344895</td>\n",
              "      <td>01:42</td>\n",
              "    </tr>\n",
              "    <tr>\n",
              "      <td>3</td>\n",
              "      <td>2.249335</td>\n",
              "      <td>2.344831</td>\n",
              "      <td>01:41</td>\n",
              "    </tr>\n",
              "  </tbody>\n",
              "</table>"
            ],
            "text/plain": [
              "<IPython.core.display.HTML object>"
            ]
          },
          "metadata": {
            "tags": []
          }
        }
      ]
    },
    {
      "cell_type": "code",
      "metadata": {
        "id": "As6SkbcgOaV9",
        "colab_type": "code",
        "colab": {}
      },
      "source": [
        "#Save the weights and learner object\n",
        "learn.save('/content/drive/My Drive/Colab Notebooks/Saved Models/trained_model_songs2', return_path = True)\n",
        "learn.export('/content/drive/My Drive/Colab Notebooks/Saved Models/songs_model2.pkl')"
      ],
      "execution_count": 0,
      "outputs": []
    },
    {
      "cell_type": "markdown",
      "metadata": {
        "id": "JlFpCeR4N2lG",
        "colab_type": "text"
      },
      "source": [
        "## Analysis"
      ]
    },
    {
      "cell_type": "code",
      "metadata": {
        "id": "v52AeLHbKi0x",
        "colab_type": "code",
        "colab": {}
      },
      "source": [
        "#Get Top 1000 Songs\n",
        "g = songdata.groupby('SongID')['Rating'].count()\n",
        "top_songs = g.sort_values(ascending=False).index.values[:1000]\n",
        "top_songs = top_songs.astype(str)"
      ],
      "execution_count": 0,
      "outputs": []
    }
  ]
}