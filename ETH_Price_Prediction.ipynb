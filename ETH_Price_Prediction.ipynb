{
  "nbformat": 4,
  "nbformat_minor": 0,
  "metadata": {
    "colab": {
      "name": "ETH Price Prediction.ipynb",
      "version": "0.3.2",
      "provenance": [],
      "collapsed_sections": [
        "N5ygtTI0X2_9"
      ],
      "include_colab_link": true
    },
    "kernelspec": {
      "name": "python3",
      "display_name": "Python 3"
    },
    "accelerator": "GPU"
  },
  "cells": [
    {
      "cell_type": "markdown",
      "metadata": {
        "id": "view-in-github",
        "colab_type": "text"
      },
      "source": [
        "<a href=\"https://colab.research.google.com/github/thedstrat/Machine-Learning-Python-Projects/blob/master/ETH_Price_Prediction.ipynb\" target=\"_parent\"><img src=\"https://colab.research.google.com/assets/colab-badge.svg\" alt=\"Open In Colab\"/></a>"
      ]
    },
    {
      "cell_type": "markdown",
      "metadata": {
        "id": "DbnkGIlDhpjh",
        "colab_type": "text"
      },
      "source": [
        "### Cryptocurrency Price Correlations\n",
        "\n",
        "---\n",
        "\n"
      ]
    },
    {
      "cell_type": "markdown",
      "metadata": {
        "id": "Px8tTxCqFfcJ",
        "colab_type": "text"
      },
      "source": [
        "### 1. Gather Data"
      ]
    },
    {
      "cell_type": "code",
      "metadata": {
        "id": "9ay8x_KmFBPg",
        "colab_type": "code",
        "colab": {}
      },
      "source": [
        "#Downgrade dependencies (Cryptory currently won't work without these specific dependency versions)\n",
        "! pip install pandas>=0.23.0\n",
        "! pip install numpy>=1.14.0\n",
        "! pip install pytrends>=4.4.0\n",
        "! pip install beautifulsoup4>=4.0.0\n",
        "\n",
        "#Install Cryptory\n",
        "! pip install cryptory==0.1.1\n",
        "\n",
        "#Install Sklearn\n",
        "!pip install scikit-learn\n",
        "\n",
        "#Install Keras\n",
        "! pip install Keras"
      ],
      "execution_count": 0,
      "outputs": []
    },
    {
      "cell_type": "code",
      "metadata": {
        "id": "hFp1SGwxHIpF",
        "colab_type": "code",
        "colab": {}
      },
      "source": [
        "from cryptory import Cryptory\n",
        "import pandas as pd\n",
        "import numpy as np\n",
        "import io\n",
        "from math import sqrt\n",
        "from google.colab import files"
      ],
      "execution_count": 0,
      "outputs": []
    },
    {
      "cell_type": "code",
      "metadata": {
        "id": "Rjt8MNjze9XH",
        "colab_type": "code",
        "colab": {}
      },
      "source": [
        "#Create function to auto-create this CSV??\n",
        "\n",
        "#Specify my_cryptory to pull data from 2018 til now\n",
        "my_cryptory = Cryptory(from_date = '2018-01-01')"
      ],
      "execution_count": 0,
      "outputs": []
    },
    {
      "cell_type": "code",
      "metadata": {
        "id": "SZoSRvKKhU23",
        "colab_type": "code",
        "colab": {}
      },
      "source": [
        "#get historical btc and eth daily closing prices from cmc\n",
        "crypto_data0 = my_cryptory.extract_coinmarketcap('bitcoin').iloc[:, 0] #get dates\n",
        "crypto_data1 = my_cryptory.extract_coinmarketcap('bitcoin').iloc[:, 3] #get btc price\n",
        "crypto_data2 = my_cryptory.extract_coinmarketcap('ethereum').iloc[:, 3] #get eth price"
      ],
      "execution_count": 0,
      "outputs": []
    },
    {
      "cell_type": "code",
      "metadata": {
        "id": "RF0hHbgLhW0N",
        "colab_type": "code",
        "colab": {}
      },
      "source": [
        "#get historical btc and eth daily tx fees\n",
        "crypto_data3 = my_cryptory.extract_bitinfocharts(\"btc\", metric='transactionfees')\n",
        "crypto_data4 = my_cryptory.extract_bitinfocharts(\"eth\", metric='transactionfees').iloc[:,1]"
      ],
      "execution_count": 0,
      "outputs": []
    },
    {
      "cell_type": "code",
      "metadata": {
        "id": "a_KQNr1uhY1h",
        "colab_type": "code",
        "colab": {}
      },
      "source": [
        "#find reddit data (reverse row order for each)\n",
        "\n",
        "#This feature of cryptory appears to be broken\n",
        "#crypto_data5 = my_cryptory.extract_reddit_metrics(subreddit='ethtrader', metric = 'subscriber-growth-perc').iloc[::-1]"
      ],
      "execution_count": 0,
      "outputs": []
    },
    {
      "cell_type": "code",
      "metadata": {
        "id": "XynBoR-9tl9y",
        "colab_type": "code",
        "colab": {}
      },
      "source": [
        "#Extract ETH daily volumes and ETH amount sent in USD\n",
        "crypto_data5 = my_cryptory.extract_bitinfocharts(\"eth\", metric='transactions')\n",
        "crypto_data6 = my_cryptory.extract_bitinfocharts(\"eth\", metric='sentinusd').iloc[:,1]\n"
      ],
      "execution_count": 0,
      "outputs": []
    },
    {
      "cell_type": "code",
      "metadata": {
        "id": "uq3DRi1jhhz7",
        "colab_type": "code",
        "colab": {}
      },
      "source": [
        "#get google trends data\n",
        "crypto_data9 = my_cryptory.get_google_trends(kw_list = ['ethereum'])\n",
        "crypto_data10 = my_cryptory.get_google_trends(kw_list = ['cryptocurrency'])\n",
        "crypto_data10 = crypto_data10.iloc[:,1] #delete date column"
      ],
      "execution_count": 0,
      "outputs": []
    },
    {
      "cell_type": "code",
      "metadata": {
        "id": "Jr-JTcqQhjzt",
        "colab_type": "code",
        "colab": {}
      },
      "source": [
        "#get Dow industrial average (reverse rows necessary?)\n",
        "crypto_data11 = my_cryptory.get_stock_prices(market=\"%5EDJI\")\n",
        "crypto_data11 = crypto_data11.iloc[:, 3] #select column 3 and all rows"
      ],
      "execution_count": 0,
      "outputs": []
    },
    {
      "cell_type": "code",
      "metadata": {
        "id": "eRZ1PBfYCR1t",
        "colab_type": "code",
        "colab": {}
      },
      "source": [
        "#Concatenate into one df\n",
        "crypto_data = pd.concat([crypto_data0, crypto_data1, crypto_data2, crypto_data3, crypto_data4, crypto_data5, crypto_data6, crypto_data9, crypto_data10, crypto_data11], axis = 1) #concatenate\n",
        "crypto_data.columns = ['date1', 'btc_close', 'eth_close', 'date2', 'btc_avgtxcost', 'eth_avgtxcost', 'date3', 'eth_txs', 'eth_sentinusd','date4', 'eth_Gsearch', 'crypto_Gsearch', 'Dow Average']\n",
        "\n",
        "print(crypto_data)"
      ],
      "execution_count": 0,
      "outputs": []
    },
    {
      "cell_type": "code",
      "metadata": {
        "id": "RYT-f63bCagb",
        "colab_type": "code",
        "colab": {}
      },
      "source": [
        "#Reverse all rows (order first date to last)\n",
        "crypto_data = crypto_data.iloc[::-1]\n",
        "\n",
        "#Shift Google Search columns\n",
        "#crypto_data[date4] = crypto_data['date4'].shift(1)\n",
        "#crypto_data[eth_Gsearch] = crypto_data['eth_Gsearch'].shift(1)\n",
        "#crypto_data[crypto_Gsearch] = crypto_data['crypto_Gsearch'].shift(1)\n",
        "\n",
        "#Or delete first row(s)\n",
        "#crypto_data = crypto_data.iloc[1:] #delete first two rows\n"
      ],
      "execution_count": 0,
      "outputs": []
    },
    {
      "cell_type": "code",
      "metadata": {
        "id": "xhkarkN1IToR",
        "colab_type": "code",
        "colab": {}
      },
      "source": [
        "# Data Cleaning\n",
        "\n",
        "#Convert date1 column entries from objects to floats\n",
        "crypto_data['date1'] = crypto_data['date1'].convert_objects(convert_numeric=True)\n",
        "\n",
        "#Set index as the first date column\n",
        "crypto_data.set_index('date1', inplace=True)\n",
        "\n",
        "# Set NA values to 0\n",
        "crypto_data.fillna(0, inplace=True)\n",
        "\n",
        "#Drop all additional date columns\n",
        "crypto_data.drop(['date2', 'date3', 'date4'], axis = 1, inplace = True)\n",
        "\n",
        "#print(df.head())\n",
        "print(crypto_data.dtypes)"
      ],
      "execution_count": 0,
      "outputs": []
    },
    {
      "cell_type": "code",
      "metadata": {
        "id": "Loxw1_nxI2yz",
        "colab_type": "code",
        "colab": {}
      },
      "source": [
        "# Convert df to json (only for my webapp)\n",
        "crypto_data = crypto_data.to_json(orient='split')\n",
        "\n",
        "print(crypto_data)"
      ],
      "execution_count": 0,
      "outputs": []
    },
    {
      "cell_type": "markdown",
      "metadata": {
        "id": "ejUsAUeBKTQN",
        "colab_type": "text"
      },
      "source": [
        "### 2. Download and Upload CSV"
      ]
    },
    {
      "cell_type": "code",
      "metadata": {
        "id": "65OH8CXeFdLR",
        "colab_type": "code",
        "colab": {}
      },
      "source": [
        "#Download file\n",
        "crypto_data.to_csv('trendsdf.csv')\n",
        "files.download('trendsdf.csv')"
      ],
      "execution_count": 0,
      "outputs": []
    },
    {
      "cell_type": "code",
      "metadata": {
        "id": "NcxzV2vfGPSt",
        "colab_type": "code",
        "colab": {}
      },
      "source": [
        "#Upload CSV as dataframe to Colab\n",
        "uploaded = files.upload()\n",
        "df = pd.read_csv(io.BytesIO(uploaded['trendsdf.csv']), header=0, index_col=0)"
      ],
      "execution_count": 0,
      "outputs": []
    },
    {
      "cell_type": "markdown",
      "metadata": {
        "id": "aePjQRBer9k4",
        "colab_type": "text"
      },
      "source": [
        "### 3. Create a Dataset of 'Window' values"
      ]
    },
    {
      "cell_type": "code",
      "metadata": {
        "id": "y4MDfqyMn5N8",
        "colab_type": "code",
        "colab": {}
      },
      "source": [
        "from sklearn import preprocessing\n",
        "from sklearn.preprocessing import StandardScaler\n",
        "from sklearn.preprocessing import MinMaxScaler\n",
        "from sklearn.preprocessing import LabelEncoder\n",
        "from sklearn.metrics import mean_squared_error\n",
        "from sklearn.model_selection import train_test_split"
      ],
      "execution_count": 0,
      "outputs": []
    },
    {
      "cell_type": "code",
      "metadata": {
        "id": "AM-B7CUzsX42",
        "colab_type": "code",
        "colab": {}
      },
      "source": [
        "#Citation: https://machinelearningmastery.com/convert-time-series-supervised-learning-problem-python/\n",
        "\n",
        "# Function to convert series to supervised learning\n",
        "def series_to_supervised(data, n_in=1, n_out=1, dropnan=True):\n",
        "\tn_vars = 1 if type(data) is list else data.shape[1]\n",
        "\tdf = pd.DataFrame(data)\n",
        "\tcols, names = list(), list()\n",
        "\t# input sequence (t-n, ... t-1)\n",
        "\tfor i in range(n_in, 0, -1):\n",
        "\t\tcols.append(df.shift(i))\n",
        "\t\tnames += [('var%d(t-%d)' % (j+1, i)) for j in range(n_vars)]\n",
        "\t# forecast sequence (t, t+1, ... t+n)\n",
        "\tfor i in range(0, n_out):\n",
        "\t\tcols.append(df.shift(-i))\n",
        "\t\tif i == 0:\n",
        "\t\t\tnames += [('var%d(t)' % (j+1)) for j in range(n_vars)]\n",
        "\t\telse:\n",
        "\t\t\tnames += [('var%d(t+%d)' % (j+1, i)) for j in range(n_vars)]\n",
        "\t# put it all together\n",
        "\tagg = pd.concat(cols, axis=1)\n",
        "\tagg.columns = names\n",
        "\t# drop rows with NaN values\n",
        "\tif dropnan:\n",
        "\t\tagg.dropna(inplace=True)\n",
        "\treturn agg"
      ],
      "execution_count": 0,
      "outputs": []
    },
    {
      "cell_type": "code",
      "metadata": {
        "id": "VWIFN_x_r9_Q",
        "colab_type": "code",
        "colab": {}
      },
      "source": [
        "# Multi-Variate Forecasting\n",
        "\n",
        "# Save df as a numpy array\n",
        "values = df.values\n",
        "\n",
        "# I don't think label encoding is necessary for any of these features bc/ they're all continuous variables. Right?\n",
        "# encoder = preprocessing.LabelEncoder()\n",
        "# values[:, 4] = encoder.fit_transform(values[:, 4])\n",
        "\n",
        "# Convert all values to float\n",
        "values = values.astype('float32')\n",
        "\n",
        "print(values[:5])"
      ],
      "execution_count": 0,
      "outputs": []
    },
    {
      "cell_type": "code",
      "metadata": {
        "id": "Kvzaba7mtitl",
        "colab_type": "code",
        "colab": {}
      },
      "source": [
        "# Normalize all features (btw/ 0 and 1).\n",
        "scaler = MinMaxScaler(feature_range=(0, 1))\n",
        "scaled = scaler.fit_transform(values)\n",
        "\n",
        "print(scaled[:5])"
      ],
      "execution_count": 0,
      "outputs": []
    },
    {
      "cell_type": "code",
      "metadata": {
        "id": "mUZwiPCiwYdz",
        "colab_type": "code",
        "colab": {}
      },
      "source": [
        "# Call function to return new ndarray. Shift values down by 1 for cols 1-9 and don't shift for cols 10-19 to make future 'windows' of 1 day. I think?\n",
        "reframed = series_to_supervised(scaled, 1, 1)"
      ],
      "execution_count": 0,
      "outputs": []
    },
    {
      "cell_type": "code",
      "metadata": {
        "id": "5P4p8XILLtju",
        "colab_type": "code",
        "colab": {}
      },
      "source": [
        "# Drop columns we don't want as features, I think? (eth price which is col 10 i believe)\n",
        "reframed.drop(reframed.columns[[9, 11, 12, 13, 14, 15, 16, 17]], axis=1, inplace=True)\n",
        "print(reframed[:-1])"
      ],
      "execution_count": 0,
      "outputs": []
    },
    {
      "cell_type": "markdown",
      "metadata": {
        "id": "sDYQOVp945H9",
        "colab_type": "text"
      },
      "source": [
        "###Train, Test, Split"
      ]
    },
    {
      "cell_type": "code",
      "metadata": {
        "id": "Yru_OJ1A-dcW",
        "colab_type": "code",
        "colab": {}
      },
      "source": [
        "# Split rows into train set (400 days) and test set (101 days)\n",
        "values = reframed.values\n",
        "n_train_days = 400 \n",
        "train = values[:n_train_days, :]\n",
        "test = values[n_train_days:, :]\n",
        "\n",
        "# Split columns into label and feature sets\n",
        "train_X, train_y = train[:, :-1], train[:, -1]\n",
        "test_X, test_y = test[:, :-1], test[:, -1]\n",
        "\n",
        "print(train_y) #double check this prints out eth prices\n",
        "\n",
        "'''\n",
        "#Create training and testing sets. Double check this is correct..\n",
        "features = reframed.values[[0, 1, 2, 3, 4, 5, 6, 7, 8]]\n",
        "label = reframed.values[9]\n",
        "train_X, test_X, train_y, test_y = train_test_split(features, label, test_size=0.33, random_state=42)\n",
        "'''"
      ],
      "execution_count": 0,
      "outputs": []
    },
    {
      "cell_type": "code",
      "metadata": {
        "id": "9FVFAGilmdW1",
        "colab_type": "code",
        "colab": {}
      },
      "source": [
        "print(train_y) #pretty sure this prints out eth prices til around 3 months ago"
      ],
      "execution_count": 0,
      "outputs": []
    },
    {
      "cell_type": "code",
      "metadata": {
        "id": "MuabL6m2LqcU",
        "colab_type": "code",
        "colab": {}
      },
      "source": [
        "# reshape input to be 3D [samples, timesteps, features]. This is the expected format for the LSTM.\n",
        "train_X = train_X.reshape((train_X.shape[0], 1, train_X.shape[1]))\n",
        "test_X = test_X.reshape((test_X.shape[0], 1, test_X.shape[1]))\n",
        "\n",
        "print(train_X.shape, train_y.shape, test_X.shape, test_y.shape)\n",
        "#print(test_y)"
      ],
      "execution_count": 0,
      "outputs": []
    },
    {
      "cell_type": "markdown",
      "metadata": {
        "id": "2BIQhYsVVb4U",
        "colab_type": "text"
      },
      "source": [
        "###4. Fit to an LSTM"
      ]
    },
    {
      "cell_type": "code",
      "metadata": {
        "id": "ufoLCVhcVf6h",
        "colab_type": "code",
        "colab": {}
      },
      "source": [
        "from keras.models import Sequential\n",
        "from keras.layers import Dense\n",
        "from keras.layers import LSTM\n",
        "\n",
        "# Design LSTM with (analyze and modify this in a bit)\n",
        "model = Sequential()\n",
        "model.add(LSTM(50, input_shape=(train_X.shape[1], train_X.shape[2])))\n",
        "model.add(Dense(1))\n",
        "model.compile(loss='mae', optimizer='adam')"
      ],
      "execution_count": 0,
      "outputs": []
    },
    {
      "cell_type": "code",
      "metadata": {
        "id": "kSSdpjUIW8KP",
        "colab_type": "code",
        "colab": {}
      },
      "source": [
        "# Fit model\n",
        "history = model.fit(train_X, train_y, epochs=50, batch_size=72, validation_data=(test_X, test_y), verbose=2, shuffle=False)"
      ],
      "execution_count": 0,
      "outputs": []
    },
    {
      "cell_type": "code",
      "metadata": {
        "id": "q1uhXd2DXEM1",
        "colab_type": "code",
        "colab": {}
      },
      "source": [
        "from matplotlib import pyplot\n",
        "\n",
        "# Plot losses\n",
        "pyplot.plot(history.history['loss'], label='train')\n",
        "pyplot.plot(history.history['val_loss'], label='test')\n",
        "pyplot.legend()\n",
        "pyplot.show()"
      ],
      "execution_count": 0,
      "outputs": []
    },
    {
      "cell_type": "code",
      "metadata": {
        "id": "XHVjsjfw46XW",
        "colab_type": "code",
        "outputId": "557214ed-adcd-47c6-bd9b-e780aa13d11b",
        "colab": {
          "base_uri": "https://localhost:8080/",
          "height": 269
        }
      },
      "source": [
        "# make a prediction for all x values (this is just x test). This should go in the modeling function.\n",
        "yhat = model.predict(test_X)\n",
        "\n",
        "# Plot modeled values and actual values\n",
        "pyplot.plot(test_y, label='actual')\n",
        "pyplot.plot(yhat, label='forecast')\n",
        "pyplot.legend()\n",
        "pyplot.show()"
      ],
      "execution_count": 0,
      "outputs": [
        {
          "output_type": "display_data",
          "data": {
            "image/png": "[encoded data removed]",
            "text/plain": [
              "<Figure size 432x288 with 1 Axes>"
            ]
          },
          "metadata": {
            "tags": []
          }
        }
      ]
    },
    {
      "cell_type": "markdown",
      "metadata": {
        "id": "N5ygtTI0X2_9",
        "colab_type": "text"
      },
      "source": [
        "###5. Evaluate (incomplete)"
      ]
    },
    {
      "cell_type": "code",
      "metadata": {
        "id": "87E2S7nJX47Y",
        "colab_type": "code",
        "colab": {}
      },
      "source": [
        "# Make a prediction for y (bitcoin is currently y i believe)\n",
        "yhat = model.predict(test_X)\n",
        "test_X = test_X.reshape((test_X.shape[0], test_X.shape[2])) #Why reshape test_X?"
      ],
      "execution_count": 0,
      "outputs": []
    },
    {
      "cell_type": "code",
      "metadata": {
        "id": "kskUVoKeYUHc",
        "colab_type": "code",
        "colab": {}
      },
      "source": [
        "# invert scaling for forecast\n",
        "inv_yhat = np.concatenate((yhat, test_X[:, 8:]), axis=1) #Add y forecast to the right of test_X in inv_yhat. Not sure combining the correct columns here.\n",
        "inv_yhat = scaler.inverse_transform(inv_yhat) #scale this new set back to non-normalized form\n",
        "inv_yhat = inv_yhat[:,0] #Select the first column"
      ],
      "execution_count": 0,
      "outputs": []
    },
    {
      "cell_type": "code",
      "metadata": {
        "id": "ru1OqqUnb0BO",
        "colab_type": "code",
        "colab": {}
      },
      "source": [
        "print(test_X)"
      ],
      "execution_count": 0,
      "outputs": []
    },
    {
      "cell_type": "code",
      "metadata": {
        "id": "YPWJ859mbqDq",
        "colab_type": "code",
        "colab": {}
      },
      "source": [
        "# invert scaling for actual\n",
        "test_y = test_y.reshape((len(test_y), 1)) #?\n",
        "inv_y = np.concatenate((test_y, test_X[:, 1:]), axis=1) #add forecast to test_y\n",
        "inv_y = scaler.inverse_transform(inv_y) #remove normalization\n",
        "inv_y = inv_y[:,0]"
      ],
      "execution_count": 0,
      "outputs": []
    },
    {
      "cell_type": "code",
      "metadata": {
        "id": "1yicElF0b_K8",
        "colab_type": "code",
        "colab": {}
      },
      "source": [
        "#print(inv_y)\n",
        "\n",
        "# Plot forecast vs actual\n",
        "pyplot.plot(inv_y, label='actual')\n",
        "pyplot.plot(inv_yhat, label='forecast')\n",
        "pyplot.legend()\n",
        "pyplot.show()"
      ],
      "execution_count": 0,
      "outputs": []
    },
    {
      "cell_type": "code",
      "metadata": {
        "id": "wFH-QBcGYWv4",
        "colab_type": "code",
        "outputId": "10380516-d316-4400-bc31-65763d8005ce",
        "colab": {
          "base_uri": "https://localhost:8080/",
          "height": 34
        }
      },
      "source": [
        "# calculate RMSE\n",
        "rmse = sqrt(mean_squared_error(inv_y, inv_yhat))\n",
        "print('Test RMSE: %.3f' % rmse)"
      ],
      "execution_count": 0,
      "outputs": [
        {
          "output_type": "stream",
          "text": [
            "Test RMSE: 1910.303\n"
          ],
          "name": "stdout"
        }
      ]
    }
  ]
}