{
  "nbformat": 4,
  "nbformat_minor": 0,
  "metadata": {
    "colab": {
      "name": "Fastai_Project_1.ipynb",
      "version": "0.3.2",
      "provenance": [],
      "collapsed_sections": [],
      "include_colab_link": true
    },
    "kernelspec": {
      "name": "python3",
      "display_name": "Python 3"
    },
    "accelerator": "GPU"
  },
  "cells": [
    {
      "cell_type": "markdown",
      "metadata": {
        "id": "view-in-github",
        "colab_type": "text"
      },
      "source": [
        "<a href=\"https://colab.research.google.com/github/thedstrat/Machine-Learning-Python-Projects/blob/master/ImagePrediction.ipynb\" target=\"_parent\"><img src=\"https://colab.research.google.com/assets/colab-badge.svg\" alt=\"Open In Colab\"/></a>"
      ]
    },
    {
      "metadata": {
        "id": "xp3K5X7bEoJB",
        "colab_type": "text"
      },
      "cell_type": "markdown",
      "source": [
        "### Image Classification using a CNN pretrained with ImageNet weights. Pull and classify images directly from Google Images."
      ]
    },
    {
      "metadata": {
        "id": "CCYIE0qg1HOQ",
        "colab_type": "code",
        "colab": {}
      },
      "cell_type": "code",
      "source": [
        "#Reload all modules in case colab has timed out\n",
        "%reload_ext autoreload\n",
        "%autoreload 2"
      ],
      "execution_count": 0,
      "outputs": []
    },
    {
      "metadata": {
        "id": "viSkjVWd3Zgs",
        "colab_type": "code",
        "colab": {}
      },
      "cell_type": "code",
      "source": [
        "!pip install google_images_download #Install Google Image Downloader module."
      ],
      "execution_count": 0,
      "outputs": []
    },
    {
      "metadata": {
        "id": "0lsEcroPNgL5",
        "colab_type": "code",
        "colab": {}
      },
      "cell_type": "code",
      "source": [
        "from fastai.vision import *\n",
        "from fastai.metrics import error_rate \n",
        "from google.colab import drive\n",
        "import os\n",
        "from google_images_download import google_images_download "
      ],
      "execution_count": 0,
      "outputs": []
    },
    {
      "metadata": {
        "id": "grrpZ5eCNvOX",
        "colab_type": "code",
        "colab": {}
      },
      "cell_type": "code",
      "source": [
        "bs = 64 #what was this for again?"
      ],
      "execution_count": 0,
      "outputs": []
    },
    {
      "metadata": {
        "id": "RfrC_l3FzYxp",
        "colab_type": "code",
        "colab": {}
      },
      "cell_type": "code",
      "source": [
        "#Mount Drive and show the directory\n",
        "drive.mount('/content/drive')\n",
        "!ls \"/content/drive/My Drive/ColabNotebooks/Fastai_1/Images\""
      ],
      "execution_count": 0,
      "outputs": []
    },
    {
      "metadata": {
        "id": "vbE2HndzB6AY",
        "colab_type": "code",
        "colab": {}
      },
      "cell_type": "code",
      "source": [
        "#Specify the directory to download images to\n",
        "path = \"/content/drive/My Drive/ColabNotebooks/Fastai_1/Images/\""
      ],
      "execution_count": 0,
      "outputs": []
    },
    {
      "metadata": {
        "id": "gPl6tHNbN60R",
        "colab_type": "code",
        "colab": {}
      },
      "cell_type": "code",
      "source": [
        "#Download images from Google Images into folder(s) in Google Drive\n",
        "response = google_images_download.googleimagesdownload() #class instantiation\n",
        "\n",
        "arguments = {'keywords': 'princess peach', 'limit': 100, 'format': 'jpg', 'size': 'medium', 'output_directory': path}\n",
        "arguments2 = {'keywords': 'mario', 'limit': 100, 'format': 'jpg', 'size': 'medium', 'output_directory': path}\n",
        "arguments3 = {'keywords': 'luigi', 'limit': 100, 'format': 'jpg', 'size': 'medium', 'output_directory': path}\n",
        "#arguments4 = {'keywords': 'small cake', 'limit': 75, 'format': 'jpg', 'size': 'medium', 'output_directory': path}\n",
        "\n",
        "#Run the below just once to download images and create folders\n",
        "paths = response.download(arguments) #Download images and create folders\n",
        "paths = response.download(arguments2)\n",
        "paths = response.download(arguments3)\n",
        "#paths = response.download(arguments4)\n",
        "\n",
        "#Note: Here, you may want to manually delete incorrect images in drive."
      ],
      "execution_count": 0,
      "outputs": []
    },
    {
      "metadata": {
        "id": "qlIZ-k4hyIaB",
        "colab_type": "code",
        "colab": {}
      },
      "cell_type": "code",
      "source": [
        "#Create ImageDataBunch class to prep your images for the CNN\n",
        "\n",
        "#Imagelist.from_folder saves a path attribute of all files that have an image suffix, split into training and cv sets randomly, give label based on the folder name, \n",
        "#apply small transformations, binds train/cv/test sets?, and normalizes all colors \n",
        "\n",
        "data = (ImageList.from_folder(path).split_by_rand_pct().label_from_folder().transform(get_transforms(), size=224).databunch().normalize(imagenet_stats))"
      ],
      "execution_count": 0,
      "outputs": []
    },
    {
      "metadata": {
        "id": "qGeQ3EDcFkLf",
        "colab_type": "code",
        "colab": {}
      },
      "cell_type": "code",
      "source": [
        "#Show a random sample of images with their actual labels\n",
        "data.show_batch(rows=3, figsize=(7,6))"
      ],
      "execution_count": 0,
      "outputs": []
    },
    {
      "metadata": {
        "id": "FBjNl4LlTtW3",
        "colab_type": "code",
        "colab": {}
      },
      "cell_type": "code",
      "source": [
        "#Train the classifier as CNN with 34 layers. The resnet34 model comes pretained w/ Imagenet weights**\n",
        "learn = cnn_learner(data, models.resnet34, metrics=error_rate)"
      ],
      "execution_count": 0,
      "outputs": []
    },
    {
      "metadata": {
        "id": "iX-Z_a_bXghp",
        "colab_type": "code",
        "colab": {}
      },
      "cell_type": "code",
      "source": [
        "#I think this tells us more information about each layer. Not sure if necessary...?\n",
        "learn.model"
      ],
      "execution_count": 0,
      "outputs": []
    },
    {
      "metadata": {
        "id": "-3V8-IQSYTKC",
        "colab_type": "code",
        "outputId": "f380fc0b-3dd6-485b-e7ec-ff51b78b74ae",
        "colab": {
          "base_uri": "https://localhost:8080/",
          "height": 195
        }
      },
      "cell_type": "code",
      "source": [
        "#Fit your model using the '1 cycle' policy\n",
        "learn.fit_one_cycle(5)"
      ],
      "execution_count": 38,
      "outputs": [
        {
          "output_type": "display_data",
          "data": {
            "text/html": [
              "<table border=\"1\" class=\"dataframe\">\n",
              "  <thead>\n",
              "    <tr style=\"text-align: left;\">\n",
              "      <th>epoch</th>\n",
              "      <th>train_loss</th>\n",
              "      <th>valid_loss</th>\n",
              "      <th>error_rate</th>\n",
              "      <th>time</th>\n",
              "    </tr>\n",
              "  </thead>\n",
              "  <tbody>\n",
              "    <tr>\n",
              "      <td>0</td>\n",
              "      <td>1.395760</td>\n",
              "      <td>1.059865</td>\n",
              "      <td>0.571429</td>\n",
              "      <td>00:06</td>\n",
              "    </tr>\n",
              "    <tr>\n",
              "      <td>1</td>\n",
              "      <td>0.998027</td>\n",
              "      <td>0.448497</td>\n",
              "      <td>0.142857</td>\n",
              "      <td>00:06</td>\n",
              "    </tr>\n",
              "    <tr>\n",
              "      <td>2</td>\n",
              "      <td>0.738210</td>\n",
              "      <td>0.212856</td>\n",
              "      <td>0.040816</td>\n",
              "      <td>00:06</td>\n",
              "    </tr>\n",
              "    <tr>\n",
              "      <td>3</td>\n",
              "      <td>0.576461</td>\n",
              "      <td>0.150281</td>\n",
              "      <td>0.061225</td>\n",
              "      <td>00:06</td>\n",
              "    </tr>\n",
              "    <tr>\n",
              "      <td>4</td>\n",
              "      <td>0.471262</td>\n",
              "      <td>0.142341</td>\n",
              "      <td>0.061225</td>\n",
              "      <td>00:06</td>\n",
              "    </tr>\n",
              "  </tbody>\n",
              "</table>"
            ],
            "text/plain": [
              "<IPython.core.display.HTML object>"
            ]
          },
          "metadata": {
            "tags": []
          }
        }
      ]
    },
    {
      "metadata": {
        "id": "YAWOYnQIsuzE",
        "colab_type": "code",
        "colab": {}
      },
      "cell_type": "code",
      "source": [
        "#Save the weights so that you can come back to them later\n",
        "learn.save('trained_model_nintendo1', return_path = True)\n",
        "\n",
        "#Save the learner object\n",
        "learn.export('nintendo1_model.pkl')\n",
        "\n",
        "#Note: To load later, use learn = load_learner(path) and provide path to the pkl file"
      ],
      "execution_count": 0,
      "outputs": []
    },
    {
      "metadata": {
        "id": "u1mfuomxJoZA",
        "colab_type": "text"
      },
      "cell_type": "markdown",
      "source": [
        "## Upload and Classify a Single Image"
      ]
    },
    {
      "metadata": {
        "id": "D7RnFnXVJwKb",
        "colab_type": "code",
        "colab": {
          "base_uri": "https://localhost:8080/",
          "height": 162
        },
        "outputId": "e92d5bc3-ebd7-46a1-e48f-8829ce799523"
      },
      "cell_type": "code",
      "source": [
        "#Open image\n",
        "img = open_image(get_image_files(\"/content/drive/My Drive/ColabNotebooks/Fastai_1/Images/mario/\")[1]) #file name or path may vary#\n",
        "img.show()\n",
        "\n",
        "#Predict Image\n",
        "pred_class, pred_idx, outputs = learn.predict(img)\n",
        "print(pred_class, outputs) #outputs gives prediction for each class (peach, mario, luigi respectively)"
      ],
      "execution_count": 57,
      "outputs": [
        {
          "output_type": "stream",
          "text": [
            "mario tensor([2.9758e-04, 9.9761e-01, 2.0941e-03])\n"
          ],
          "name": "stdout"
        },
        {
          "output_type": "display_data",
          "data": {
            "image/png": "[encoded data removed]",
            "text/plain": [
              "<Figure size 216x216 with 1 Axes>"
            ]
          },
          "metadata": {
            "tags": []
          }
        }
      ]
    },
    {
      "metadata": {
        "id": "nqqndKxZEaHG",
        "colab_type": "text"
      },
      "cell_type": "markdown",
      "source": [
        "## **Analysis**"
      ]
    },
    {
      "metadata": {
        "id": "khA9cQ7RaXyV",
        "colab_type": "code",
        "colab": {}
      },
      "cell_type": "code",
      "source": [
        "#plot loss over iteration number\n",
        "learn.recorder.plot_losses()"
      ],
      "execution_count": 0,
      "outputs": []
    },
    {
      "metadata": {
        "id": "w71lFnWXtNoN",
        "colab_type": "code",
        "colab": {}
      },
      "cell_type": "code",
      "source": [
        "#Make a confusion matrix to visualize the most wrongly classified images\n",
        "interp = ClassificationInterpretation.from_learner(learn)\n",
        "\n",
        "#Returns most wrongly classified (losses) and their respective indices.\n",
        "losses, indices = interp.top_losses() \n",
        "print(losses,indices)"
      ],
      "execution_count": 0,
      "outputs": []
    },
    {
      "metadata": {
        "id": "79n094sptamO",
        "colab_type": "code",
        "colab": {}
      },
      "cell_type": "code",
      "source": [
        "#Plot most wrongly classified images\n",
        "interp.plot_top_losses(9, figsize=(15,11)) #Note that the algorithm still got all of these right. Might have to increase # of photos or compare less differentiable items."
      ],
      "execution_count": 0,
      "outputs": []
    },
    {
      "metadata": {
        "id": "xJpc-wDewNCT",
        "colab_type": "code",
        "colab": {}
      },
      "cell_type": "code",
      "source": [
        "# Plot the confusion matrix\n",
        "interp.plot_confusion_matrix(figsize=(12,12), dpi=60)"
      ],
      "execution_count": 0,
      "outputs": []
    },
    {
      "metadata": {
        "id": "SY_Kjxy5CX4P",
        "colab_type": "code",
        "colab": {}
      },
      "cell_type": "code",
      "source": [
        "#What did the model predict incorrectly most often?\n",
        "interp.most_confused(min_val=2)"
      ],
      "execution_count": 0,
      "outputs": []
    },
    {
      "metadata": {
        "id": "k2KNOzjEHJ9t",
        "colab_type": "text"
      },
      "cell_type": "markdown",
      "source": [
        "# **Fine Tuning**"
      ]
    },
    {
      "metadata": {
        "id": "q03rYqqLCYLS",
        "colab_type": "code",
        "colab": {}
      },
      "cell_type": "code",
      "source": [
        "# This will unfreeze our model so that the weights in each layer may change. When did it ever become frozen? I think it only unfreezes until you run .fit_one_cycle().\n",
        "learn.unfreeze()\n",
        "\n",
        "learn.fit_one_cycle(1)"
      ],
      "execution_count": 0,
      "outputs": []
    },
    {
      "metadata": {
        "id": "BaMYQK6F79YL",
        "colab_type": "code",
        "colab": {}
      },
      "cell_type": "code",
      "source": [
        "# Load the CNN that you saved before the analysis. Why is this not before the unfreeze?\n",
        "learn.load('trained_model_all_4');"
      ],
      "execution_count": 0,
      "outputs": []
    },
    {
      "metadata": {
        "id": "1Z9bg0ZuA408",
        "colab_type": "code",
        "colab": {
          "base_uri": "https://localhost:8080/",
          "height": 300
        },
        "outputId": "e1eb984a-fed4-4ead-bb84-e498ce95d08e"
      },
      "cell_type": "code",
      "source": [
        "# Find and plot the optimal Learning Rate (alpha)\n",
        "learn.lr_find()\n",
        "learn.recorder.plot()"
      ],
      "execution_count": 15,
      "outputs": [
        {
          "output_type": "display_data",
          "data": {
            "text/html": [
              ""
            ],
            "text/plain": [
              "<IPython.core.display.HTML object>"
            ]
          },
          "metadata": {
            "tags": []
          }
        },
        {
          "output_type": "stream",
          "text": [
            "LR Finder is complete, type {learner_name}.recorder.plot() to see the graph.\n"
          ],
          "name": "stdout"
        },
        {
          "output_type": "display_data",
          "data": {
            "image/png": "[encoded data removed]",
            "text/plain": [
              "<Figure size 432x288 with 1 Axes>"
            ]
          },
          "metadata": {
            "tags": []
          }
        }
      ]
    },
    {
      "metadata": {
        "id": "qfZBWNc-BP_3",
        "colab_type": "code",
        "colab": {}
      },
      "cell_type": "code",
      "source": [
        "learn.unfreeze() #unfreezing before this significantly improves accuracy\n",
        "\n",
        "#Pass in the learning rates that minimize our loss using 'max_lr' below. \n",
        "learn.fit_one_cycle(3, max_lr=slice(1e-4,1e-2))\n",
        "\n",
        "#Weird that error rate is optimized when max_lr is at highest loss, not lowest. Watch out for this method."
      ],
      "execution_count": 0,
      "outputs": []
    }
  ]
}